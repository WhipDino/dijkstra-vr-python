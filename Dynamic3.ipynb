{
 "cells": [
  {
   "cell_type": "markdown",
   "metadata": {},
   "source": [
    "## Inicializando Estruturas de Dados e Importações"
   ]
  },
  {
   "cell_type": "code",
   "execution_count": 18,
   "metadata": {},
   "outputs": [],
   "source": [
    "import matplotlib.pyplot as plt\n",
    "\n",
    "# Estrutura de dados para armazenar o desempenho dos alunos\n",
    "desempenho_alunos = {}\n",
    "\n",
    "# Estrutura de dados para armazenar resultados intermediários em forma de tabela\n",
    "tabela_resultados = []"
   ]
  },
  {
   "cell_type": "markdown",
   "metadata": {},
   "source": [
    "## Função de Registro de Feedback em Tabela"
   ]
  },
  {
   "cell_type": "code",
   "execution_count": 19,
   "metadata": {},
   "outputs": [],
   "source": [
    "# Função para registrar feedback e resultados intermediários em uma tabela\n",
    "def registrar_feedback_tabela(aluno, procedimento, resultado, acuracia, sugestoes=None):\n",
    "    linha = [aluno, procedimento, resultado, acuracia, sugestoes]\n",
    "    tabela_resultados.append(linha)\n",
    "\n",
    "# Função para exibir os resultados em formato de tabela\n",
    "def exibir_tabela_resultados():\n",
    "    print(f\"{'Aluno':<10} {'Procedimento':<20} {'Resultado':<10} {'Acurácia':<10} {'Sugestões':<20}\")\n",
    "    print(\"-\" * 70)\n",
    "    for linha in tabela_resultados:\n",
    "        aluno, procedimento, resultado, acuracia, sugestoes = linha\n",
    "        sugestoes_texto = sugestoes if sugestoes else \"Nenhuma\"\n",
    "        print(f\"{aluno:<10} {procedimento:<20} {resultado:<10} {acuracia:<10} {sugestoes_texto:<20}\")"
   ]
  },
  {
   "cell_type": "markdown",
   "metadata": {},
   "source": [
    "## Algoritmo de Dijkstra"
   ]
  },
  {
   "cell_type": "code",
   "execution_count": 20,
   "metadata": {},
   "outputs": [],
   "source": [
    "# Função para verificar o próximo procedimento com base no feedback (usando Dijkstra sem heapq)\n",
    "def dijkstra(grafo, inicio, aluno):\n",
    "    distancias = {no: float('infinity') for no in grafo}\n",
    "    distancias[inicio] = 0\n",
    "    rota = {no: [] for no in grafo}\n",
    "    visitados = []  # Lista de nós visitados\n",
    "    \n",
    "    while len(visitados) < len(grafo):\n",
    "        # Seleciona o nó com a menor distância que ainda não foi visitado\n",
    "        no_atual = None\n",
    "        menor_distancia = float('infinity')\n",
    "        \n",
    "        for no in distancias:\n",
    "            if no not in visitados and distancias[no] < menor_distancia:\n",
    "                no_atual = no\n",
    "                menor_distancia = distancias[no]\n",
    "        \n",
    "        if no_atual is None:\n",
    "            break\n",
    "        \n",
    "        # Marca o nó como visitado\n",
    "        visitados.append(no_atual)\n",
    "        \n",
    "        # Atualiza as distâncias para os vizinhos do nó atual\n",
    "        for vizinho, peso in grafo[no_atual].items():\n",
    "            nova_distancia = distancias[no_atual] + peso\n",
    "            if nova_distancia < distancias[vizinho]:\n",
    "                distancias[vizinho] = nova_distancia\n",
    "                rota[vizinho] = rota[no_atual] + [vizinho]\n",
    "\n",
    "    return rota, distancias"
   ]
  },
  {
   "cell_type": "markdown",
   "metadata": {},
   "source": [
    "## Ajustar Pesos Dinamicamente no Grafo com Base no Feedback"
   ]
  },
  {
   "cell_type": "code",
   "execution_count": 21,
   "metadata": {},
   "outputs": [],
   "source": [
    "# Ajustar os pesos dinamicamente no grafo com base no feedback\n",
    "def ajustar_pesos_dinamicos(grafo, aluno, procedimento_atual, acuracia):\n",
    "    if acuracia < 80:\n",
    "        for vizinho, peso in grafo[procedimento_atual].items():\n",
    "            grafo[procedimento_atual][vizinho] += 1  # Aumenta a dificuldade\n",
    "        print(f\"Pesos ajustados após falha no {procedimento_atual} para {aluno}.\")\n",
    "    else:\n",
    "        for vizinho, peso in grafo[procedimento_atual].items():\n",
    "            grafo[procedimento_atual][vizinho] = max(1, grafo[procedimento_atual][vizinho] - 1)\n",
    "        print(f\"Pesos ajustados após sucesso no {procedimento_atual} para {aluno}.\")"
   ]
  },
  {
   "cell_type": "markdown",
   "metadata": {},
   "source": [
    "## Sistema de Níveis para Alunos"
   ]
  },
  {
   "cell_type": "code",
   "execution_count": 22,
   "metadata": {},
   "outputs": [],
   "source": [
    "# Sistema de níveis para restringir o acesso a procedimentos mais difíceis\n",
    "def calcular_nivel(aluno, acuracia):\n",
    "    if acuracia >= 90:\n",
    "        return \"Avançado\"\n",
    "    elif acuracia >= 80:\n",
    "        return \"Intermediário\"\n",
    "    else:\n",
    "        return \"Básico\""
   ]
  },
  {
   "cell_type": "markdown",
   "metadata": {},
   "source": [
    "## Função de Processamento de Simulação com Sistema de Níveis e Dijkstra"
   ]
  },
  {
   "cell_type": "code",
   "execution_count": 23,
   "metadata": {},
   "outputs": [],
   "source": [
    "# Função para processar a simulação e ajustar os pesos no grafo\n",
    "def processar_simulacao_com_nivel(grafo, aluno, procedimento_atual, acuracia):\n",
    "    nivel_atual = calcular_nivel(aluno, acuracia)\n",
    "    print(f\"{aluno} está no nível {nivel_atual}.\")\n",
    "    \n",
    "    if nivel_atual == \"Básico\":\n",
    "        print(f\"{aluno} deve repetir procedimentos mais fáceis antes de avançar.\")\n",
    "        ajustar_pesos_dinamicos(grafo, aluno, procedimento_atual, acuracia)\n",
    "    else:\n",
    "        print(f\"{aluno} pode tentar procedimentos mais avançados.\")\n",
    "    \n",
    "    # Chamar Dijkstra para seguir com o próximo procedimento\n",
    "    rota, distancias = dijkstra(grafo, procedimento_atual, aluno)\n",
    "    proximo = rota[procedimento_atual][0] if rota[procedimento_atual] else \"Finalizado\"\n",
    "    print(f\"Próximo procedimento sugerido para {aluno}: {proximo}\")\n",
    "    \n",
    "    # Registrar o feedback na tabela de resultados\n",
    "    if acuracia >= 80:\n",
    "        registrar_feedback_tabela(aluno, procedimento_atual, 'Aprovado', acuracia)\n",
    "    else:\n",
    "        registrar_feedback_tabela(aluno, procedimento_atual, 'Reprovado', acuracia, 'Rever técnicas e repetir procedimento.')"
   ]
  },
  {
   "cell_type": "markdown",
   "metadata": {},
   "source": [
    "## Função para Visualizar o Desempenho em Gráficos"
   ]
  },
  {
   "cell_type": "code",
   "execution_count": 24,
   "metadata": {},
   "outputs": [],
   "source": [
    "# Função para visualizar o desempenho do aluno ao longo do tempo\n",
    "def gerar_grafico_desempenho(aluno):\n",
    "    acuracias = [entrada[3] for entrada in tabela_resultados if entrada[0] == aluno]\n",
    "    procedimentos = [entrada[1] for entrada in tabela_resultados if entrada[0] == aluno]\n",
    "    \n",
    "    plt.figure(figsize=(10, 5))\n",
    "    plt.plot(procedimentos, acuracias, marker='o')\n",
    "    plt.title(f\"Evolução do Desempenho de {aluno}\")\n",
    "    plt.xlabel(\"Procedimento\")\n",
    "    plt.ylabel(\"Acurácia (%)\")\n",
    "    plt.ylim(0, 100)\n",
    "    plt.grid(True)\n",
    "    plt.show()"
   ]
  },
  {
   "cell_type": "markdown",
   "metadata": {},
   "source": [
    "## Definição do Grafo de Procedimentos e Execução de Testes"
   ]
  },
  {
   "cell_type": "code",
   "execution_count": 25,
   "metadata": {},
   "outputs": [
    {
     "name": "stdout",
     "output_type": "stream",
     "text": [
      "João está no nível Básico.\n",
      "João deve repetir procedimentos mais fáceis antes de avançar.\n",
      "Pesos ajustados após falha no Procedimento A para João.\n",
      "Próximo procedimento sugerido para João: Finalizado\n",
      "João está no nível Intermediário.\n",
      "João pode tentar procedimentos mais avançados.\n",
      "Próximo procedimento sugerido para João: Finalizado\n",
      "João está no nível Básico.\n",
      "João deve repetir procedimentos mais fáceis antes de avançar.\n",
      "Pesos ajustados após falha no Procedimento C para João.\n",
      "Próximo procedimento sugerido para João: Finalizado\n",
      "\n",
      "Resultados Intermediários em Tabela:\n",
      "Aluno      Procedimento         Resultado  Acurácia   Sugestões           \n",
      "----------------------------------------------------------------------\n",
      "João       Procedimento A       Reprovado  75         Rever técnicas e repetir procedimento.\n",
      "João       Procedimento B       Aprovado   85         Nenhuma             \n",
      "João       Procedimento C       Reprovado  65         Rever técnicas e repetir procedimento.\n"
     ]
    },
    {
     "data": {
      "image/png": "[encoded data removed]",
      "text/plain": [
       "<Figure size 1000x500 with 1 Axes>"
      ]
     },
     "metadata": {},
     "output_type": "display_data"
    }
   ],
   "source": [
    "# Definição do grafo dos procedimentos com base na \"dificuldade\" de transição entre eles\n",
    "grafo_procedimentos = {\n",
    "    'Procedimento A': {'Procedimento B': 1, 'Procedimento C': 4},\n",
    "    'Procedimento B': {'Procedimento A': 1, 'Procedimento D': 2, 'Procedimento C': 2},\n",
    "    'Procedimento C': {'Procedimento A': 4, 'Procedimento B': 2, 'Procedimento D': 1},\n",
    "    'Procedimento D': {'Procedimento B': 2, 'Procedimento C': 1}\n",
    "}\n",
    "\n",
    "# Executar simulações para o aluno \"João\"\n",
    "processar_simulacao_com_nivel(grafo_procedimentos, \"João\", \"Procedimento A\", 75)\n",
    "processar_simulacao_com_nivel(grafo_procedimentos, \"João\", \"Procedimento B\", 85)\n",
    "processar_simulacao_com_nivel(grafo_procedimentos, \"João\", \"Procedimento C\", 65)\n",
    "\n",
    "# Exibir a tabela de resultados após simulações\n",
    "print(\"\\nResultados Intermediários em Tabela:\")\n",
    "exibir_tabela_resultados()\n",
    "\n",
    "# Gerar o gráfico de desempenho do aluno \"João\"\n",
    "gerar_grafico_desempenho(\"João\")"
   ]
  }
 ],
 "metadata": {
  "kernelspec": {
   "display_name": "Python 3",
   "language": "python",
   "name": "python3"
  },
  "language_info": {
   "codemirror_mode": {
    "name": "ipython",
    "version": 3
   },
   "file_extension": ".py",
   "mimetype": "text/x-python",
   "name": "python",
   "nbconvert_exporter": "python",
   "pygments_lexer": "ipython3",
   "version": "3.10.2"
  }
 },
 "nbformat": 4,
 "nbformat_minor": 2
}
